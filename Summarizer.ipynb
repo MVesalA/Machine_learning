{
  "cells": [
    {
      "cell_type": "code",
      "execution_count": null,
      "id": "ec592020-dff5-4077-902d-7e852a6793f5",
      "metadata": {
        "id": "ec592020-dff5-4077-902d-7e852a6793f5"
      },
      "outputs": [],
      "source": [
        "import warnings\n",
        "import torch\n",
        "import gradio\n",
        "from transformers import pipeline\n",
        "from bs4 import BeautifulSoup\n",
        "import requests"
      ]
    },
    {
      "cell_type": "markdown",
      "source": [
        "# **1.display the orginal text by link**\n",
        "\n"
      ],
      "metadata": {
        "id": "T_D-esc6FIsI"
      },
      "id": "T_D-esc6FIsI"
    },
    {
      "cell_type": "code",
      "execution_count": null,
      "id": "cc02cb9c-daf7-4b94-8770-ea9ff4037203",
      "metadata": {
        "id": "cc02cb9c-daf7-4b94-8770-ea9ff4037203"
      },
      "outputs": [],
      "source": [
        "summarizer = pipeline(\"summarization\", model=\"stevhliu/my_awesome_billsum_model\")"
      ]
    },
    {
      "cell_type": "code",
      "execution_count": null,
      "id": "0aa4d56f-864c-41e0-932a-d804e95dfbc1",
      "metadata": {
        "id": "0aa4d56f-864c-41e0-932a-d804e95dfbc1"
      },
      "outputs": [],
      "source": [
        "url = \"https://medium.com/analytics-vidhya/openai-gpt-3-language-models-are-few-shot-learners-82531b3d3122\""
      ]
    },
    {
      "cell_type": "code",
      "execution_count": null,
      "id": "47a7e4aa-27cd-474c-8444-4b68052b6ea9",
      "metadata": {
        "id": "47a7e4aa-27cd-474c-8444-4b68052b6ea9"
      },
      "outputs": [],
      "source": [
        "r = requests.get(url)"
      ]
    },
    {
      "cell_type": "code",
      "execution_count": null,
      "id": "c83bff7e-340e-4bc3-af2b-35ec85c5ce14",
      "metadata": {
        "id": "c83bff7e-340e-4bc3-af2b-35ec85c5ce14"
      },
      "outputs": [],
      "source": [
        "soup = BeautifulSoup(r.text, 'html.parser')\n",
        "results = soup.find_all(['hl', 'p'])\n",
        "text = [result.text for result in results]\n",
        "Article = ''.join(text)"
      ]
    },
    {
      "cell_type": "code",
      "execution_count": null,
      "id": "c1c2cc22-752d-42c7-a228-affe13e043a6",
      "metadata": {
        "id": "c1c2cc22-752d-42c7-a228-affe13e043a6",
        "outputId": "fac83567-3eea-4408-88b5-63a11dbd4f65"
      },
      "outputs": [
        {
          "data": {
            "text/plain": [
              "'Sign upSign inSign upSign inSoheil TehranipourFollowAnalytics Vidhya--4ListenShareOpenAI recently published a paper describing GPT-3, a deep-learning model for Natural Language Processing, with 175 Billion parameters(!!!), 100x more than the previous version, GPT-2. The model is pre-trained on nearly half a trillion words and achieves SOTA performance on several NLP benchmarks without fine-tuning.Based on its paper, GPT-3 is an autoregressive language model as opposed to a denoising autoencoder like BERT. I decided to write about some of the comparative differences between those two architectures of language models. The paper is an investigation into what you can do with giant language models. Now this language model is an order of magnitude larger than anyone has ever built a language model.OpenAI’s researchers: “In this work we do not fine-tune GPT-3 because our focus is on task-agnostic performance,”So, they seem appropriate for natural language generation. One of the things I want to explore here, is mainly an academic endeavor. The commercial utility which is something that can help us in industry is not possible with GPT-3 (at least not possible right not) which is only in reach for the very top tech companies like Microsoft,Google or OpenAI.you could learn a complex hierarchy of relationships directly between the tokens it was no longer this sequential representation where you only knew what happened at one time step backwards it was a real paradigm shift and straight away these language processing models produce SOTA results across the board.Generally speaking, there are two architectural patterns that we see with these transformers’ architectures.2. The other type of model is what’s called a denoising autoencoder like BERT and RoBERTa and XLNET and what these do is you feed in an input sentence and then you typically add some noise to it and then you say what you expect. in the photo below, you can check the size of parameters for each NLP effort before GPT-3.Now, it’s time to check some famous terms.The OpenAI researchers state that larger models make increasingly efficient use of in-context information. As can be seen in the plot below, the steeper “in-context learning curves” for large models show improved ability to learn from contextual information.I read somewhere that the whole story of GPT-3 costs “nearly $12 million dollars.” I know that it’s not even a penny for Elon Musk but for using GPT-3 in action for practical uses, this is not what the companies like. Also, One hypothesis is that GPT-3 has so many parameters (half the number of tokens trained on) that it is starting to act like a memory network.As you should know, GPT-2 GPT-2 (a successor to GPT), was trained simply to predict the next word in 40GB of Internet text. GPT-2 is a large transformer-based language model with 1.5 billion parameters, trained on a dataset of 8 million web pages. GPT-2 is trained with a simple objective: predict the next word, given all of the previous words within some text. The diversity of the dataset causes this simple goal to contain naturally occurring demonstrations of many tasks across diverse domains. GPT-2 is a direct scale-up of GPT, with more than 10X the parameters and trained on more than 10X the amount of data. (Based on OpenAI)But, GPT-3 is upgraded with 175 billion parameters, it tailors and escalates the GPT-2 architecture, it also involves adjusted initialization, pre-normalization, and changeable tokenization. It reflects substantial performance on various NLP tasks and benchmarks in three distinct shots, i.e. zero-shot, one-shot and some-shot environments.So, these things seem to be appropriate for things like question answering when you need to point to spans in your input sequence for example if you’re doing in-span question answering the auto-regressive models are quite attractive because you can just keep generating data forever.For training, the researchers have used a combination of model parallelism within each matrix multiply and model parallelism. More information about the training corpus is listed below:GPT-3 was trained on V100 GPU on the part of a high-bandwidth cluster provided by Microsoft. Evaluation of GPT-3 is done under 3 conditions:The results show that GPT-3 showed strong performance with translation, question-answering, and cloze tasks, as well as with unscrambling words and performing 3-digit arithmetic. The researchers claim that GPT-3 can even generate news articles in which human evaluators have difficulty distinguishing from articles written by humans.GPT-3 is an incredibly large model, and one cannot expect to build something like this without fancy computational resources. However, the researchers assure that these models can be efficient once trained, where even a full GPT-3 model generating 74 pages of content from a trained model can cost only a few cents in energy costs.As with GPT-2, OpenAI has not released the trained model or the code, although there is a GitHub repository containing some of the test datasets as well as a collection of text samples generated by the model.OpenAI has recently unveiled the latest epitome of its eye-catching text generator, GPT-3 that has 175 billion parameters. GPT-3 can execute an amazing bandwidth of natural language processing tasks, even without requiring fine-tuning for a specific task. It is capable of performing machine translation, question-answering, reading conceptual tasks, scripting poems, and elementary math.Public domain.----4Analytics VidhyaPh.D. Candidate, Passionate about data science to improve the world./ Linkedin: https://www.linkedin.com/in/soheiltehrani/HelpStatusAboutCareersPressBlogPrivacyTermsText to speechTeams'"
            ]
          },
          "execution_count": 6,
          "metadata": {},
          "output_type": "execute_result"
        }
      ],
      "source": [
        "Article"
      ]
    },
    {
      "cell_type": "markdown",
      "source": [
        "# **2.Separate into different parts**"
      ],
      "metadata": {
        "id": "1MLobC5mGFrX"
      },
      "id": "1MLobC5mGFrX"
    },
    {
      "cell_type": "code",
      "execution_count": null,
      "id": "fe88051f-e2ab-4c65-9b70-539e934f24c0",
      "metadata": {
        "id": "fe88051f-e2ab-4c65-9b70-539e934f24c0"
      },
      "outputs": [],
      "source": [
        "max_chunk = 500"
      ]
    },
    {
      "cell_type": "code",
      "execution_count": null,
      "id": "6eb89890-c213-4438-9d05-492c1870cf64",
      "metadata": {
        "id": "6eb89890-c213-4438-9d05-492c1870cf64"
      },
      "outputs": [],
      "source": [
        "Article = Article.replace('.', '')\n",
        "Article = Article.replace('?', '')\n",
        "Article = Article.replace('!', '')"
      ]
    },
    {
      "cell_type": "code",
      "execution_count": null,
      "id": "d50737d5-387d-4aa3-ad4a-b6db0bcbf9a6",
      "metadata": {
        "id": "d50737d5-387d-4aa3-ad4a-b6db0bcbf9a6",
        "outputId": "f1d102d3-64d0-4406-e910-cef82d902f4f"
      },
      "outputs": [
        {
          "name": "stdout",
          "output_type": "stream",
          "text": [
            "0\n"
          ]
        }
      ],
      "source": [
        "sentences = Article.split(' ')\n",
        "current_chunk = 0\n",
        "chunks = []\n",
        "for sentence in sentences:\n",
        "    if len(chunks) == current_chunk + 1:\n",
        "        if len(chunks[current_chunk]) + len(sentence.split(' ')) <= max_chunk:\n",
        "            chunks[current_chunk].extend(sentence.split(' '))\n",
        "        else:\n",
        "            current_chunk += 1\n",
        "            chunks.append(sentence.split(' '))\n",
        "    else:\n",
        "        print(current_chunk)\n",
        "        chunks.append(sentence.split(' '))\n",
        "\n",
        "for chunk_id in range(len(chunks)):\n",
        "    chunks[chunk_id] = ' '.join(chunks[chunk_id])"
      ]
    },
    {
      "cell_type": "code",
      "execution_count": null,
      "id": "23c0caae-1ce3-42d4-8914-35f15a15c572",
      "metadata": {
        "id": "23c0caae-1ce3-42d4-8914-35f15a15c572",
        "outputId": "c1297323-60c5-408d-e89a-93d4d9a1e9b1"
      },
      "outputs": [
        {
          "data": {
            "text/plain": [
              "2"
            ]
          },
          "execution_count": 10,
          "metadata": {},
          "output_type": "execute_result"
        }
      ],
      "source": [
        "len(chunks)"
      ]
    },
    {
      "cell_type": "code",
      "execution_count": null,
      "id": "109eae32-d1fe-4257-a820-7841e5d6e08b",
      "metadata": {
        "id": "109eae32-d1fe-4257-a820-7841e5d6e08b",
        "outputId": "7fde050f-defe-43ef-fda5-1b7c991b8c00"
      },
      "outputs": [
        {
          "data": {
            "text/plain": [
              "'Sign upSign inSign upSign inSoheil TehranipourFollowAnalytics Vidhya--4ListenShareOpenAI recently published a paper describing GPT-3, a deep-learning model for Natural Language Processing, with 175 Billion parameters(), 100x more than the previous version, GPT-2 The model is pre-trained on nearly half a trillion words and achieves SOTA performance on several NLP benchmarks without fine-tuningBased on its paper, GPT-3 is an autoregressive language model as opposed to a denoising autoencoder like BERT I decided to write about some of the comparative differences between those two architectures of language models The paper is an investigation into what you can do with giant language models Now this language model is an order of magnitude larger than anyone has ever built a language modelOpenAI’s researchers: “In this work we do not fine-tune GPT-3 because our focus is on task-agnostic performance,”So, they seem appropriate for natural language generation One of the things I want to explore here, is mainly an academic endeavor The commercial utility which is something that can help us in industry is not possible with GPT-3 (at least not possible right not) which is only in reach for the very top tech companies like Microsoft,Google or OpenAIyou could learn a complex hierarchy of relationships directly between the tokens it was no longer this sequential representation where you only knew what happened at one time step backwards it was a real paradigm shift and straight away these language processing models produce SOTA results across the boardGenerally speaking, there are two architectural patterns that we see with these transformers’ architectures2 The other type of model is what’s called a denoising autoencoder like BERT and RoBERTa and XLNET and what these do is you feed in an input sentence and then you typically add some noise to it and then you say what you expect in the photo below, you can check the size of parameters for each NLP effort before GPT-3Now, it’s time to check some famous termsThe OpenAI researchers state that larger models make increasingly efficient use of in-context information As can be seen in the plot below, the steeper “in-context learning curves” for large models show improved ability to learn from contextual informationI read somewhere that the whole story of GPT-3 costs “nearly $12 million dollars” I know that it’s not even a penny for Elon Musk but for using GPT-3 in action for practical uses, this is not what the companies like Also, One hypothesis is that GPT-3 has so many parameters (half the number of tokens trained on) that it is starting to act like a memory networkAs you should know, GPT-2 GPT-2 (a successor to GPT), was trained simply to predict the next word in 40GB of Internet text GPT-2 is a large transformer-based language model with 15 billion parameters, trained on a dataset of 8 million web pages GPT-2 is trained with a simple objective: predict the next word, given all of the previous words within some text The diversity of the dataset causes this simple goal to contain naturally occurring'"
            ]
          },
          "execution_count": 11,
          "metadata": {},
          "output_type": "execute_result"
        }
      ],
      "source": [
        "chunks[0]"
      ]
    },
    {
      "cell_type": "markdown",
      "source": [
        "# **3.Summarizing each part**"
      ],
      "metadata": {
        "id": "FPjsoPy7G01E"
      },
      "id": "FPjsoPy7G01E"
    },
    {
      "cell_type": "code",
      "execution_count": null,
      "id": "c9655275-9311-4ec8-8942-f77e415c5e55",
      "metadata": {
        "id": "c9655275-9311-4ec8-8942-f77e415c5e55",
        "outputId": "16e9c2b6-0cff-4560-92af-352afaf0cec5"
      },
      "outputs": [
        {
          "name": "stderr",
          "output_type": "stream",
          "text": [
            "Token indices sequence length is longer than the specified maximum sequence length for this model (700 > 512). Running this sequence through the model will result in indexing errors\n"
          ]
        }
      ],
      "source": [
        "res = summarizer(chunks, max_length=50, min_length=30, do_sample=False)"
      ]
    },
    {
      "cell_type": "code",
      "execution_count": null,
      "id": "c3377904-21e7-4778-b70b-a3222d55446f",
      "metadata": {
        "id": "c3377904-21e7-4778-b70b-a3222d55446f",
        "outputId": "15d5c0a2-0e15-4259-e5d2-e760d67f0861"
      },
      "outputs": [
        {
          "data": {
            "text/plain": [
              "2"
            ]
          },
          "execution_count": 13,
          "metadata": {},
          "output_type": "execute_result"
        }
      ],
      "source": [
        "len(res)"
      ]
    },
    {
      "cell_type": "code",
      "execution_count": null,
      "id": "352e1671-dd89-4545-9a4f-a9eebc7763ce",
      "metadata": {
        "id": "352e1671-dd89-4545-9a4f-a9eebc7763ce",
        "outputId": "5011c45c-3efb-4574-f2a4-f8e3f7f87a56"
      },
      "outputs": [
        {
          "data": {
            "text/plain": [
              "{'summary_text': 'GPT-3 is a direct scale-up of GPT, with 175 billion parameters and trained on more than 10X the amount of data (Based on OpenAI) It reflects substantial performance on various NLP tasks and benchmarks'}"
            ]
          },
          "execution_count": 14,
          "metadata": {},
          "output_type": "execute_result"
        }
      ],
      "source": [
        "res[1]"
      ]
    },
    {
      "cell_type": "code",
      "execution_count": null,
      "id": "6557cefe-aba0-43d8-a6a4-88b0aaeadfe7",
      "metadata": {
        "id": "6557cefe-aba0-43d8-a6a4-88b0aaeadfe7",
        "outputId": "9abfd595-131b-43ae-e45b-ec90a7eed89b"
      },
      "outputs": [
        {
          "name": "stdout",
          "output_type": "stream",
          "text": [
            "{'summary_text': 'GPT-3 is a deep-learning model for Natural Language Processing, with 175 Billion parameters(), 100x more than the previous version, GPT-2 The model is pre-trained on nearly half a trillion words and'}\n",
            "{'summary_text': 'GPT-3 is a direct scale-up of GPT, with 175 billion parameters and trained on more than 10X the amount of data (Based on OpenAI) It reflects substantial performance on various NLP tasks and benchmarks'}\n"
          ]
        }
      ],
      "source": [
        "for i in range(len(res)):\n",
        "    print(res[i])"
      ]
    },
    {
      "cell_type": "markdown",
      "source": [
        "# *** Display in app**"
      ],
      "metadata": {
        "id": "LI7KM9pLHSja"
      },
      "id": "LI7KM9pLHSja"
    },
    {
      "cell_type": "code",
      "execution_count": null,
      "id": "2140e706-db66-410c-8181-9d595bc6a953",
      "metadata": {
        "id": "2140e706-db66-410c-8181-9d595bc6a953"
      },
      "outputs": [],
      "source": [
        "def SUMMARIZE(Url):\n",
        "    summarizer = pipeline(\"summarization\", model=\"stevhliu/my_awesome_billsum_model\")\n",
        "    r = requests.get(Url)\n",
        "    soup = BeautifulSoup(r.text, 'html.parser')\n",
        "    results = soup.find_all(['hl', 'p'])\n",
        "    text = [result.text for result in results]\n",
        "    Article = ''.join(text)\n",
        "    sentences = Article.split(' ')\n",
        "    current_chunk = 0\n",
        "    chunks = []\n",
        "    for sentence in sentences:\n",
        "        if len(chunks) == current_chunk + 1:\n",
        "            if len(chunks[current_chunk]) + len(sentence.split(' ')) <= max_chunk:\n",
        "                chunks[current_chunk].extend(sentence.split(' '))\n",
        "            else:\n",
        "                current_chunk += 1\n",
        "                chunks.append(sentence.split(' '))\n",
        "        else:\n",
        "            #print(current_chunk)\n",
        "            chunks.append(sentence.split(' '))\n",
        "\n",
        "    for chunk_id in range(len(chunks)):\n",
        "        chunks[chunk_id] = ' '.join(chunks[chunk_id])\n",
        "    res = summarizer(chunks, max_length=120, min_length=30, do_sample=False)\n",
        "    for i in range(len(res)):\n",
        "        return res[i].values()"
      ]
    },
    {
      "cell_type": "markdown",
      "source": [
        "**get the link, show the suumarized text**"
      ],
      "metadata": {
        "id": "OzG5meMJH5EL"
      },
      "id": "OzG5meMJH5EL"
    },
    {
      "cell_type": "code",
      "execution_count": null,
      "id": "68c7ff4a-d685-406b-a5a5-cb2dd5834f6f",
      "metadata": {
        "id": "68c7ff4a-d685-406b-a5a5-cb2dd5834f6f",
        "outputId": "ebb84c02-0da2-4103-8763-e77160825cbf"
      },
      "outputs": [
        {
          "name": "stdout",
          "output_type": "stream",
          "text": [
            "Running on local URL:  http://127.0.0.1:7860\n",
            "\n",
            "Could not create share link. Please check your internet connection or our status page: https://status.gradio.app.\n"
          ]
        },
        {
          "data": {
            "text/html": [
              "<div><iframe src=\"http://127.0.0.1:7860/\" width=\"100%\" height=\"500\" allow=\"autoplay; camera; microphone; clipboard-read; clipboard-write;\" frameborder=\"0\" allowfullscreen></iframe></div>"
            ],
            "text/plain": [
              "<IPython.core.display.HTML object>"
            ]
          },
          "metadata": {},
          "output_type": "display_data"
        },
        {
          "data": {
            "text/plain": []
          },
          "execution_count": 17,
          "metadata": {},
          "output_type": "execute_result"
        }
      ],
      "source": [
        "interface = gradio.Interface(fn=SUMMARIZE,\n",
        "                             inputs=gradio.TextArea(lines=2, placeholder='Enter your url'),\n",
        "                             outputs=gradio.TextArea())\n",
        "interface.launch(share=True)"
      ]
    }
  ],
  "metadata": {
    "kernelspec": {
      "display_name": "Python 3 (ipykernel)",
      "language": "python",
      "name": "python3"
    },
    "language_info": {
      "codemirror_mode": {
        "name": "ipython",
        "version": 3
      },
      "file_extension": ".py",
      "mimetype": "text/x-python",
      "name": "python",
      "nbconvert_exporter": "python",
      "pygments_lexer": "ipython3",
      "version": "3.11.4"
    },
    "colab": {
      "provenance": []
    }
  },
  "nbformat": 4,
  "nbformat_minor": 5
}